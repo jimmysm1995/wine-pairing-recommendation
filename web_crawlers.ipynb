{
 "cells": [
  {
   "cell_type": "code",
   "id": "initial_id",
   "metadata": {
    "collapsed": true,
    "ExecuteTime": {
     "end_time": "2024-12-23T11:31:17.352225Z",
     "start_time": "2024-12-23T11:31:17.346685Z"
    }
   },
   "source": [
    "import urllib\n",
    "from bs4 import BeautifulSoup\n",
    "import numpy as np\n",
    "import pandas as pd"
   ],
   "outputs": [],
   "execution_count": 16
  },
  {
   "metadata": {
    "ExecuteTime": {
     "end_time": "2024-12-23T17:20:04.606004Z",
     "start_time": "2024-12-23T17:19:57.437056Z"
    }
   },
   "cell_type": "code",
   "source": [
    "import urllib\n",
    "from bs4 import BeautifulSoup\n",
    "import pandas as pd\n",
    "\n",
    "base_url = 'https://www.vivino.com/explore?e=eJwrL4mOtTVUKwdRRgAgBwRK&page='\n",
    "url_vinok = 'https://www.vivino.com/ES/es'\n",
    "data = []\n",
    "\n",
    "# Number of pages to scrape\n",
    "num_pages = 100\n",
    "\n",
    "for page in range(1, num_pages + 1):\n",
    "    url = base_url + str(page)\n",
    "    print(f\"Accediendo a la página {page}: {url}\")\n",
    "    try:\n",
    "        html = urllib.request.urlopen(url)\n",
    "        soup = BeautifulSoup(html, 'html.parser')\n",
    "        tags = soup.find_all('a', class_='anchor_anchor__m8Qi- wineCard__cardLink--3F_uB wineCard__notSuperCard--268Xo')\n",
    "\n",
    "        for tag in tags:\n",
    "            new_url = url_vinok + tag.get('href')\n",
    "            try:\n",
    "                if new_url.startswith('http'):\n",
    "                    html2 = urllib.request.urlopen(new_url)\n",
    "                    soup2 = BeautifulSoup(html2)\n",
    "                    winery = soup2.find('span', class_='headline')\n",
    "                    name = soup2.find('span', class_='vintage')\n",
    "                    price = soup2.find('span', class_='purchaseAvailability__currentPrice--3mO4u')\n",
    "                    score = soup2.find('div', class_='vivinoRating_averageValue__uDdPM')\n",
    "                    country = soup2.find('a', {'data-cy': 'breadcrumb-country'})\n",
    "                    wine_type = soup2.find('a', {'data-cy': 'breadcrumb-winetype'})\n",
    "                    pairing = soup2.findAll('a', class_='foodPairing__imageContainer--2CtYR')\n",
    "                    flavours = soup2.find('div', class_='tasteNote__popularKeywords--1gIa2')\n",
    "                    img_src = soup2.find('picture', class_='bottleShot').find('img', class_='image')['src']\n",
    "                    price_quality = soup2.find('span', class_='MuiTypography-root MuiTypography-body1 vivino-mui-jl3vsy-MuiTypography-root-labelLarge')\n",
    "\n",
    "                    # Encuentra la tabla\n",
    "                    table = soup2.find('table', {'class': 'wineFacts__wineFacts--2Ih8B'})\n",
    "\n",
    "                    # Extrae las filas de la tabla\n",
    "                    table_data = {}\n",
    "                    if table:\n",
    "                        rows = table.find_all('tr')\n",
    "                        for row in rows:\n",
    "                            cells = row.find_all(['td', 'th'])\n",
    "                            if len(cells) == 2:\n",
    "                                key = cells[0].get_text(strip=True)\n",
    "                                value = cells[1].get_text(strip=True)\n",
    "                                table_data[key] = value\n",
    "\n",
    "                    wine_name, year = name.text.strip().split('\\n\\n')\n",
    "                    food_list = [food.text for food in pairing]\n",
    "                    if flavours:\n",
    "                        flavours_list = [flavour.text for flavour in flavours]\n",
    "                    else:\n",
    "                        flavours_list = []\n",
    "\n",
    "                    # Añade los datos de la tabla al diccionario\n",
    "                    wine_data = {\n",
    "                        'winery': winery.text.strip() if winery else None,\n",
    "                        'wine_name': wine_name,\n",
    "                        'year': year,\n",
    "                        'price': price.text.strip() if price else None,\n",
    "                        'score': score.text.strip() if score else None,\n",
    "                        'country': country.text if country else None,\n",
    "                        'wine_type': wine_type.text if wine_type else None,\n",
    "                        'pairing': ', '.join(food_list) if food_list else None,\n",
    "                        'flavours': ', '.join(flavours_list) if flavours_list else None,\n",
    "                        'picture': img_src,\n",
    "                        'price_quality': price_quality.text.strip() if price_quality else None\n",
    "                    }\n",
    "                    wine_data.update(table_data)\n",
    "\n",
    "                    data.append(wine_data)\n",
    "\n",
    "            except Exception as e:\n",
    "                print(f\"Error al acceder a {new_url}: {e}\")\n",
    "\n",
    "    except Exception as e:\n",
    "        print(f\"Error al acceder a la página {page}: {e}\")\n",
    "\n",
    "df = pd.DataFrame(data, columns=['winery', 'wine_name', 'year', 'price', 'score', 'country', 'wine_type', 'pairing', 'flavours', 'picture', 'price_quality', 'Uvas', 'Región', 'Estilo de vino', 'Contenido de alcohol'])"
   ],
   "id": "8255f1a3013d3463",
   "outputs": [
    {
     "name": "stdout",
     "output_type": "stream",
     "text": [
      "Accediendo a la página 1: https://www.vivino.com/explore?e=eJwrL4mOtTVUKwdRRgAgBwRK&page=1\n",
      "Error al acceder a la página 1: HTTP Error 429: Too Many Requests\n",
      "Accediendo a la página 2: https://www.vivino.com/explore?e=eJwrL4mOtTVUKwdRRgAgBwRK&page=2\n",
      "Error al acceder a la página 2: HTTP Error 429: Too Many Requests\n",
      "Accediendo a la página 3: https://www.vivino.com/explore?e=eJwrL4mOtTVUKwdRRgAgBwRK&page=3\n",
      "Error al acceder a la página 3: HTTP Error 429: Too Many Requests\n",
      "Accediendo a la página 4: https://www.vivino.com/explore?e=eJwrL4mOtTVUKwdRRgAgBwRK&page=4\n",
      "Error al acceder a la página 4: HTTP Error 429: Too Many Requests\n",
      "Accediendo a la página 5: https://www.vivino.com/explore?e=eJwrL4mOtTVUKwdRRgAgBwRK&page=5\n",
      "Error al acceder a la página 5: HTTP Error 429: Too Many Requests\n",
      "Accediendo a la página 6: https://www.vivino.com/explore?e=eJwrL4mOtTVUKwdRRgAgBwRK&page=6\n",
      "Error al acceder a la página 6: HTTP Error 429: Too Many Requests\n",
      "Accediendo a la página 7: https://www.vivino.com/explore?e=eJwrL4mOtTVUKwdRRgAgBwRK&page=7\n",
      "Error al acceder a la página 7: HTTP Error 429: Too Many Requests\n",
      "Accediendo a la página 8: https://www.vivino.com/explore?e=eJwrL4mOtTVUKwdRRgAgBwRK&page=8\n",
      "Error al acceder a la página 8: HTTP Error 429: Too Many Requests\n",
      "Accediendo a la página 9: https://www.vivino.com/explore?e=eJwrL4mOtTVUKwdRRgAgBwRK&page=9\n",
      "Error al acceder a la página 9: HTTP Error 429: Too Many Requests\n",
      "Accediendo a la página 10: https://www.vivino.com/explore?e=eJwrL4mOtTVUKwdRRgAgBwRK&page=10\n",
      "Error al acceder a la página 10: HTTP Error 429: Too Many Requests\n",
      "Accediendo a la página 11: https://www.vivino.com/explore?e=eJwrL4mOtTVUKwdRRgAgBwRK&page=11\n",
      "Error al acceder a la página 11: HTTP Error 429: Too Many Requests\n",
      "Accediendo a la página 12: https://www.vivino.com/explore?e=eJwrL4mOtTVUKwdRRgAgBwRK&page=12\n",
      "Error al acceder a la página 12: HTTP Error 429: Too Many Requests\n",
      "Accediendo a la página 13: https://www.vivino.com/explore?e=eJwrL4mOtTVUKwdRRgAgBwRK&page=13\n",
      "Error al acceder a la página 13: HTTP Error 429: Too Many Requests\n",
      "Accediendo a la página 14: https://www.vivino.com/explore?e=eJwrL4mOtTVUKwdRRgAgBwRK&page=14\n",
      "Error al acceder a la página 14: HTTP Error 429: Too Many Requests\n",
      "Accediendo a la página 15: https://www.vivino.com/explore?e=eJwrL4mOtTVUKwdRRgAgBwRK&page=15\n",
      "Error al acceder a la página 15: HTTP Error 429: Too Many Requests\n",
      "Accediendo a la página 16: https://www.vivino.com/explore?e=eJwrL4mOtTVUKwdRRgAgBwRK&page=16\n",
      "Error al acceder a la página 16: HTTP Error 429: Too Many Requests\n",
      "Accediendo a la página 17: https://www.vivino.com/explore?e=eJwrL4mOtTVUKwdRRgAgBwRK&page=17\n",
      "Error al acceder a la página 17: HTTP Error 429: Too Many Requests\n",
      "Accediendo a la página 18: https://www.vivino.com/explore?e=eJwrL4mOtTVUKwdRRgAgBwRK&page=18\n",
      "Error al acceder a la página 18: HTTP Error 429: Too Many Requests\n",
      "Accediendo a la página 19: https://www.vivino.com/explore?e=eJwrL4mOtTVUKwdRRgAgBwRK&page=19\n",
      "Error al acceder a la página 19: HTTP Error 429: Too Many Requests\n",
      "Accediendo a la página 20: https://www.vivino.com/explore?e=eJwrL4mOtTVUKwdRRgAgBwRK&page=20\n",
      "Error al acceder a la página 20: HTTP Error 429: Too Many Requests\n",
      "Accediendo a la página 21: https://www.vivino.com/explore?e=eJwrL4mOtTVUKwdRRgAgBwRK&page=21\n",
      "Error al acceder a la página 21: HTTP Error 429: Too Many Requests\n",
      "Accediendo a la página 22: https://www.vivino.com/explore?e=eJwrL4mOtTVUKwdRRgAgBwRK&page=22\n",
      "Error al acceder a la página 22: HTTP Error 429: Too Many Requests\n",
      "Accediendo a la página 23: https://www.vivino.com/explore?e=eJwrL4mOtTVUKwdRRgAgBwRK&page=23\n",
      "Error al acceder a la página 23: HTTP Error 429: Too Many Requests\n",
      "Accediendo a la página 24: https://www.vivino.com/explore?e=eJwrL4mOtTVUKwdRRgAgBwRK&page=24\n",
      "Error al acceder a la página 24: HTTP Error 429: Too Many Requests\n",
      "Accediendo a la página 25: https://www.vivino.com/explore?e=eJwrL4mOtTVUKwdRRgAgBwRK&page=25\n",
      "Error al acceder a la página 25: HTTP Error 429: Too Many Requests\n",
      "Accediendo a la página 26: https://www.vivino.com/explore?e=eJwrL4mOtTVUKwdRRgAgBwRK&page=26\n",
      "Error al acceder a la página 26: HTTP Error 429: Too Many Requests\n",
      "Accediendo a la página 27: https://www.vivino.com/explore?e=eJwrL4mOtTVUKwdRRgAgBwRK&page=27\n",
      "Error al acceder a la página 27: HTTP Error 429: Too Many Requests\n",
      "Accediendo a la página 28: https://www.vivino.com/explore?e=eJwrL4mOtTVUKwdRRgAgBwRK&page=28\n",
      "Error al acceder a la página 28: HTTP Error 429: Too Many Requests\n",
      "Accediendo a la página 29: https://www.vivino.com/explore?e=eJwrL4mOtTVUKwdRRgAgBwRK&page=29\n"
     ]
    },
    {
     "ename": "KeyboardInterrupt",
     "evalue": "",
     "output_type": "error",
     "traceback": [
      "\u001B[1;31m---------------------------------------------------------------------------\u001B[0m",
      "\u001B[1;31mKeyboardInterrupt\u001B[0m                         Traceback (most recent call last)",
      "Cell \u001B[1;32mIn[1], line 16\u001B[0m\n\u001B[0;32m     14\u001B[0m \u001B[38;5;28mprint\u001B[39m(\u001B[38;5;124mf\u001B[39m\u001B[38;5;124m\"\u001B[39m\u001B[38;5;124mAccediendo a la página \u001B[39m\u001B[38;5;132;01m{\u001B[39;00mpage\u001B[38;5;132;01m}\u001B[39;00m\u001B[38;5;124m: \u001B[39m\u001B[38;5;132;01m{\u001B[39;00murl\u001B[38;5;132;01m}\u001B[39;00m\u001B[38;5;124m\"\u001B[39m)\n\u001B[0;32m     15\u001B[0m \u001B[38;5;28;01mtry\u001B[39;00m:\n\u001B[1;32m---> 16\u001B[0m     html \u001B[38;5;241m=\u001B[39m \u001B[43murllib\u001B[49m\u001B[38;5;241;43m.\u001B[39;49m\u001B[43mrequest\u001B[49m\u001B[38;5;241;43m.\u001B[39;49m\u001B[43murlopen\u001B[49m\u001B[43m(\u001B[49m\u001B[43murl\u001B[49m\u001B[43m)\u001B[49m\n\u001B[0;32m     17\u001B[0m     soup \u001B[38;5;241m=\u001B[39m BeautifulSoup(html, \u001B[38;5;124m'\u001B[39m\u001B[38;5;124mhtml.parser\u001B[39m\u001B[38;5;124m'\u001B[39m)\n\u001B[0;32m     18\u001B[0m     tags \u001B[38;5;241m=\u001B[39m soup\u001B[38;5;241m.\u001B[39mfind_all(\u001B[38;5;124m'\u001B[39m\u001B[38;5;124ma\u001B[39m\u001B[38;5;124m'\u001B[39m, class_\u001B[38;5;241m=\u001B[39m\u001B[38;5;124m'\u001B[39m\u001B[38;5;124manchor_anchor__m8Qi- wineCard__cardLink--3F_uB wineCard__notSuperCard--268Xo\u001B[39m\u001B[38;5;124m'\u001B[39m)\n",
      "File \u001B[1;32mC:\\Python312\\Lib\\urllib\\request.py:215\u001B[0m, in \u001B[0;36murlopen\u001B[1;34m(url, data, timeout, cafile, capath, cadefault, context)\u001B[0m\n\u001B[0;32m    213\u001B[0m \u001B[38;5;28;01melse\u001B[39;00m:\n\u001B[0;32m    214\u001B[0m     opener \u001B[38;5;241m=\u001B[39m _opener\n\u001B[1;32m--> 215\u001B[0m \u001B[38;5;28;01mreturn\u001B[39;00m \u001B[43mopener\u001B[49m\u001B[38;5;241;43m.\u001B[39;49m\u001B[43mopen\u001B[49m\u001B[43m(\u001B[49m\u001B[43murl\u001B[49m\u001B[43m,\u001B[49m\u001B[43m \u001B[49m\u001B[43mdata\u001B[49m\u001B[43m,\u001B[49m\u001B[43m \u001B[49m\u001B[43mtimeout\u001B[49m\u001B[43m)\u001B[49m\n",
      "File \u001B[1;32mC:\\Python312\\Lib\\urllib\\request.py:515\u001B[0m, in \u001B[0;36mOpenerDirector.open\u001B[1;34m(self, fullurl, data, timeout)\u001B[0m\n\u001B[0;32m    512\u001B[0m     req \u001B[38;5;241m=\u001B[39m meth(req)\n\u001B[0;32m    514\u001B[0m sys\u001B[38;5;241m.\u001B[39maudit(\u001B[38;5;124m'\u001B[39m\u001B[38;5;124murllib.Request\u001B[39m\u001B[38;5;124m'\u001B[39m, req\u001B[38;5;241m.\u001B[39mfull_url, req\u001B[38;5;241m.\u001B[39mdata, req\u001B[38;5;241m.\u001B[39mheaders, req\u001B[38;5;241m.\u001B[39mget_method())\n\u001B[1;32m--> 515\u001B[0m response \u001B[38;5;241m=\u001B[39m \u001B[38;5;28;43mself\u001B[39;49m\u001B[38;5;241;43m.\u001B[39;49m\u001B[43m_open\u001B[49m\u001B[43m(\u001B[49m\u001B[43mreq\u001B[49m\u001B[43m,\u001B[49m\u001B[43m \u001B[49m\u001B[43mdata\u001B[49m\u001B[43m)\u001B[49m\n\u001B[0;32m    517\u001B[0m \u001B[38;5;66;03m# post-process response\u001B[39;00m\n\u001B[0;32m    518\u001B[0m meth_name \u001B[38;5;241m=\u001B[39m protocol\u001B[38;5;241m+\u001B[39m\u001B[38;5;124m\"\u001B[39m\u001B[38;5;124m_response\u001B[39m\u001B[38;5;124m\"\u001B[39m\n",
      "File \u001B[1;32mC:\\Python312\\Lib\\urllib\\request.py:532\u001B[0m, in \u001B[0;36mOpenerDirector._open\u001B[1;34m(self, req, data)\u001B[0m\n\u001B[0;32m    529\u001B[0m     \u001B[38;5;28;01mreturn\u001B[39;00m result\n\u001B[0;32m    531\u001B[0m protocol \u001B[38;5;241m=\u001B[39m req\u001B[38;5;241m.\u001B[39mtype\n\u001B[1;32m--> 532\u001B[0m result \u001B[38;5;241m=\u001B[39m \u001B[38;5;28;43mself\u001B[39;49m\u001B[38;5;241;43m.\u001B[39;49m\u001B[43m_call_chain\u001B[49m\u001B[43m(\u001B[49m\u001B[38;5;28;43mself\u001B[39;49m\u001B[38;5;241;43m.\u001B[39;49m\u001B[43mhandle_open\u001B[49m\u001B[43m,\u001B[49m\u001B[43m \u001B[49m\u001B[43mprotocol\u001B[49m\u001B[43m,\u001B[49m\u001B[43m \u001B[49m\u001B[43mprotocol\u001B[49m\u001B[43m \u001B[49m\u001B[38;5;241;43m+\u001B[39;49m\n\u001B[0;32m    533\u001B[0m \u001B[43m                          \u001B[49m\u001B[38;5;124;43m'\u001B[39;49m\u001B[38;5;124;43m_open\u001B[39;49m\u001B[38;5;124;43m'\u001B[39;49m\u001B[43m,\u001B[49m\u001B[43m \u001B[49m\u001B[43mreq\u001B[49m\u001B[43m)\u001B[49m\n\u001B[0;32m    534\u001B[0m \u001B[38;5;28;01mif\u001B[39;00m result:\n\u001B[0;32m    535\u001B[0m     \u001B[38;5;28;01mreturn\u001B[39;00m result\n",
      "File \u001B[1;32mC:\\Python312\\Lib\\urllib\\request.py:492\u001B[0m, in \u001B[0;36mOpenerDirector._call_chain\u001B[1;34m(self, chain, kind, meth_name, *args)\u001B[0m\n\u001B[0;32m    490\u001B[0m \u001B[38;5;28;01mfor\u001B[39;00m handler \u001B[38;5;129;01min\u001B[39;00m handlers:\n\u001B[0;32m    491\u001B[0m     func \u001B[38;5;241m=\u001B[39m \u001B[38;5;28mgetattr\u001B[39m(handler, meth_name)\n\u001B[1;32m--> 492\u001B[0m     result \u001B[38;5;241m=\u001B[39m \u001B[43mfunc\u001B[49m\u001B[43m(\u001B[49m\u001B[38;5;241;43m*\u001B[39;49m\u001B[43margs\u001B[49m\u001B[43m)\u001B[49m\n\u001B[0;32m    493\u001B[0m     \u001B[38;5;28;01mif\u001B[39;00m result \u001B[38;5;129;01mis\u001B[39;00m \u001B[38;5;129;01mnot\u001B[39;00m \u001B[38;5;28;01mNone\u001B[39;00m:\n\u001B[0;32m    494\u001B[0m         \u001B[38;5;28;01mreturn\u001B[39;00m result\n",
      "File \u001B[1;32mC:\\Python312\\Lib\\urllib\\request.py:1392\u001B[0m, in \u001B[0;36mHTTPSHandler.https_open\u001B[1;34m(self, req)\u001B[0m\n\u001B[0;32m   1391\u001B[0m \u001B[38;5;28;01mdef\u001B[39;00m \u001B[38;5;21mhttps_open\u001B[39m(\u001B[38;5;28mself\u001B[39m, req):\n\u001B[1;32m-> 1392\u001B[0m     \u001B[38;5;28;01mreturn\u001B[39;00m \u001B[38;5;28;43mself\u001B[39;49m\u001B[38;5;241;43m.\u001B[39;49m\u001B[43mdo_open\u001B[49m\u001B[43m(\u001B[49m\u001B[43mhttp\u001B[49m\u001B[38;5;241;43m.\u001B[39;49m\u001B[43mclient\u001B[49m\u001B[38;5;241;43m.\u001B[39;49m\u001B[43mHTTPSConnection\u001B[49m\u001B[43m,\u001B[49m\u001B[43m \u001B[49m\u001B[43mreq\u001B[49m\u001B[43m,\u001B[49m\n\u001B[0;32m   1393\u001B[0m \u001B[43m                        \u001B[49m\u001B[43mcontext\u001B[49m\u001B[38;5;241;43m=\u001B[39;49m\u001B[38;5;28;43mself\u001B[39;49m\u001B[38;5;241;43m.\u001B[39;49m\u001B[43m_context\u001B[49m\u001B[43m)\u001B[49m\n",
      "File \u001B[1;32mC:\\Python312\\Lib\\urllib\\request.py:1348\u001B[0m, in \u001B[0;36mAbstractHTTPHandler.do_open\u001B[1;34m(self, http_class, req, **http_conn_args)\u001B[0m\n\u001B[0;32m   1346\u001B[0m     \u001B[38;5;28;01mexcept\u001B[39;00m \u001B[38;5;167;01mOSError\u001B[39;00m \u001B[38;5;28;01mas\u001B[39;00m err: \u001B[38;5;66;03m# timeout error\u001B[39;00m\n\u001B[0;32m   1347\u001B[0m         \u001B[38;5;28;01mraise\u001B[39;00m URLError(err)\n\u001B[1;32m-> 1348\u001B[0m     r \u001B[38;5;241m=\u001B[39m \u001B[43mh\u001B[49m\u001B[38;5;241;43m.\u001B[39;49m\u001B[43mgetresponse\u001B[49m\u001B[43m(\u001B[49m\u001B[43m)\u001B[49m\n\u001B[0;32m   1349\u001B[0m \u001B[38;5;28;01mexcept\u001B[39;00m:\n\u001B[0;32m   1350\u001B[0m     h\u001B[38;5;241m.\u001B[39mclose()\n",
      "File \u001B[1;32mC:\\Python312\\Lib\\http\\client.py:1419\u001B[0m, in \u001B[0;36mHTTPConnection.getresponse\u001B[1;34m(self)\u001B[0m\n\u001B[0;32m   1417\u001B[0m \u001B[38;5;28;01mtry\u001B[39;00m:\n\u001B[0;32m   1418\u001B[0m     \u001B[38;5;28;01mtry\u001B[39;00m:\n\u001B[1;32m-> 1419\u001B[0m         \u001B[43mresponse\u001B[49m\u001B[38;5;241;43m.\u001B[39;49m\u001B[43mbegin\u001B[49m\u001B[43m(\u001B[49m\u001B[43m)\u001B[49m\n\u001B[0;32m   1420\u001B[0m     \u001B[38;5;28;01mexcept\u001B[39;00m \u001B[38;5;167;01mConnectionError\u001B[39;00m:\n\u001B[0;32m   1421\u001B[0m         \u001B[38;5;28mself\u001B[39m\u001B[38;5;241m.\u001B[39mclose()\n",
      "File \u001B[1;32mC:\\Python312\\Lib\\http\\client.py:331\u001B[0m, in \u001B[0;36mHTTPResponse.begin\u001B[1;34m(self)\u001B[0m\n\u001B[0;32m    329\u001B[0m \u001B[38;5;66;03m# read until we get a non-100 response\u001B[39;00m\n\u001B[0;32m    330\u001B[0m \u001B[38;5;28;01mwhile\u001B[39;00m \u001B[38;5;28;01mTrue\u001B[39;00m:\n\u001B[1;32m--> 331\u001B[0m     version, status, reason \u001B[38;5;241m=\u001B[39m \u001B[38;5;28;43mself\u001B[39;49m\u001B[38;5;241;43m.\u001B[39;49m\u001B[43m_read_status\u001B[49m\u001B[43m(\u001B[49m\u001B[43m)\u001B[49m\n\u001B[0;32m    332\u001B[0m     \u001B[38;5;28;01mif\u001B[39;00m status \u001B[38;5;241m!=\u001B[39m CONTINUE:\n\u001B[0;32m    333\u001B[0m         \u001B[38;5;28;01mbreak\u001B[39;00m\n",
      "File \u001B[1;32mC:\\Python312\\Lib\\http\\client.py:292\u001B[0m, in \u001B[0;36mHTTPResponse._read_status\u001B[1;34m(self)\u001B[0m\n\u001B[0;32m    291\u001B[0m \u001B[38;5;28;01mdef\u001B[39;00m \u001B[38;5;21m_read_status\u001B[39m(\u001B[38;5;28mself\u001B[39m):\n\u001B[1;32m--> 292\u001B[0m     line \u001B[38;5;241m=\u001B[39m \u001B[38;5;28mstr\u001B[39m(\u001B[38;5;28;43mself\u001B[39;49m\u001B[38;5;241;43m.\u001B[39;49m\u001B[43mfp\u001B[49m\u001B[38;5;241;43m.\u001B[39;49m\u001B[43mreadline\u001B[49m\u001B[43m(\u001B[49m\u001B[43m_MAXLINE\u001B[49m\u001B[43m \u001B[49m\u001B[38;5;241;43m+\u001B[39;49m\u001B[43m \u001B[49m\u001B[38;5;241;43m1\u001B[39;49m\u001B[43m)\u001B[49m, \u001B[38;5;124m\"\u001B[39m\u001B[38;5;124miso-8859-1\u001B[39m\u001B[38;5;124m\"\u001B[39m)\n\u001B[0;32m    293\u001B[0m     \u001B[38;5;28;01mif\u001B[39;00m \u001B[38;5;28mlen\u001B[39m(line) \u001B[38;5;241m>\u001B[39m _MAXLINE:\n\u001B[0;32m    294\u001B[0m         \u001B[38;5;28;01mraise\u001B[39;00m LineTooLong(\u001B[38;5;124m\"\u001B[39m\u001B[38;5;124mstatus line\u001B[39m\u001B[38;5;124m\"\u001B[39m)\n",
      "File \u001B[1;32mC:\\Python312\\Lib\\socket.py:707\u001B[0m, in \u001B[0;36mSocketIO.readinto\u001B[1;34m(self, b)\u001B[0m\n\u001B[0;32m    705\u001B[0m \u001B[38;5;28;01mwhile\u001B[39;00m \u001B[38;5;28;01mTrue\u001B[39;00m:\n\u001B[0;32m    706\u001B[0m     \u001B[38;5;28;01mtry\u001B[39;00m:\n\u001B[1;32m--> 707\u001B[0m         \u001B[38;5;28;01mreturn\u001B[39;00m \u001B[38;5;28;43mself\u001B[39;49m\u001B[38;5;241;43m.\u001B[39;49m\u001B[43m_sock\u001B[49m\u001B[38;5;241;43m.\u001B[39;49m\u001B[43mrecv_into\u001B[49m\u001B[43m(\u001B[49m\u001B[43mb\u001B[49m\u001B[43m)\u001B[49m\n\u001B[0;32m    708\u001B[0m     \u001B[38;5;28;01mexcept\u001B[39;00m timeout:\n\u001B[0;32m    709\u001B[0m         \u001B[38;5;28mself\u001B[39m\u001B[38;5;241m.\u001B[39m_timeout_occurred \u001B[38;5;241m=\u001B[39m \u001B[38;5;28;01mTrue\u001B[39;00m\n",
      "File \u001B[1;32mC:\\Python312\\Lib\\ssl.py:1253\u001B[0m, in \u001B[0;36mSSLSocket.recv_into\u001B[1;34m(self, buffer, nbytes, flags)\u001B[0m\n\u001B[0;32m   1249\u001B[0m     \u001B[38;5;28;01mif\u001B[39;00m flags \u001B[38;5;241m!=\u001B[39m \u001B[38;5;241m0\u001B[39m:\n\u001B[0;32m   1250\u001B[0m         \u001B[38;5;28;01mraise\u001B[39;00m \u001B[38;5;167;01mValueError\u001B[39;00m(\n\u001B[0;32m   1251\u001B[0m           \u001B[38;5;124m\"\u001B[39m\u001B[38;5;124mnon-zero flags not allowed in calls to recv_into() on \u001B[39m\u001B[38;5;132;01m%s\u001B[39;00m\u001B[38;5;124m\"\u001B[39m \u001B[38;5;241m%\u001B[39m\n\u001B[0;32m   1252\u001B[0m           \u001B[38;5;28mself\u001B[39m\u001B[38;5;241m.\u001B[39m\u001B[38;5;18m__class__\u001B[39m)\n\u001B[1;32m-> 1253\u001B[0m     \u001B[38;5;28;01mreturn\u001B[39;00m \u001B[38;5;28;43mself\u001B[39;49m\u001B[38;5;241;43m.\u001B[39;49m\u001B[43mread\u001B[49m\u001B[43m(\u001B[49m\u001B[43mnbytes\u001B[49m\u001B[43m,\u001B[49m\u001B[43m \u001B[49m\u001B[43mbuffer\u001B[49m\u001B[43m)\u001B[49m\n\u001B[0;32m   1254\u001B[0m \u001B[38;5;28;01melse\u001B[39;00m:\n\u001B[0;32m   1255\u001B[0m     \u001B[38;5;28;01mreturn\u001B[39;00m \u001B[38;5;28msuper\u001B[39m()\u001B[38;5;241m.\u001B[39mrecv_into(buffer, nbytes, flags)\n",
      "File \u001B[1;32mC:\\Python312\\Lib\\ssl.py:1105\u001B[0m, in \u001B[0;36mSSLSocket.read\u001B[1;34m(self, len, buffer)\u001B[0m\n\u001B[0;32m   1103\u001B[0m \u001B[38;5;28;01mtry\u001B[39;00m:\n\u001B[0;32m   1104\u001B[0m     \u001B[38;5;28;01mif\u001B[39;00m buffer \u001B[38;5;129;01mis\u001B[39;00m \u001B[38;5;129;01mnot\u001B[39;00m \u001B[38;5;28;01mNone\u001B[39;00m:\n\u001B[1;32m-> 1105\u001B[0m         \u001B[38;5;28;01mreturn\u001B[39;00m \u001B[38;5;28;43mself\u001B[39;49m\u001B[38;5;241;43m.\u001B[39;49m\u001B[43m_sslobj\u001B[49m\u001B[38;5;241;43m.\u001B[39;49m\u001B[43mread\u001B[49m\u001B[43m(\u001B[49m\u001B[38;5;28;43mlen\u001B[39;49m\u001B[43m,\u001B[49m\u001B[43m \u001B[49m\u001B[43mbuffer\u001B[49m\u001B[43m)\u001B[49m\n\u001B[0;32m   1106\u001B[0m     \u001B[38;5;28;01melse\u001B[39;00m:\n\u001B[0;32m   1107\u001B[0m         \u001B[38;5;28;01mreturn\u001B[39;00m \u001B[38;5;28mself\u001B[39m\u001B[38;5;241m.\u001B[39m_sslobj\u001B[38;5;241m.\u001B[39mread(\u001B[38;5;28mlen\u001B[39m)\n",
      "\u001B[1;31mKeyboardInterrupt\u001B[0m: "
     ]
    }
   ],
   "execution_count": 1
  },
  {
   "metadata": {
    "ExecuteTime": {
     "end_time": "2024-12-23T11:31:19.523568Z",
     "start_time": "2024-12-23T11:31:19.512971Z"
    }
   },
   "cell_type": "code",
   "source": "df.head()",
   "id": "ce857ed018af5f6c",
   "outputs": [
    {
     "data": {
      "text/plain": [
       "Empty DataFrame\n",
       "Columns: [winery, wine_name, year, price, score, country, wine_type, pairing, flavours, picture, price_quality, Uvas, Región, Estilo de vino, Contenido de alcohol]\n",
       "Index: []"
      ],
      "text/html": [
       "<div>\n",
       "<style scoped>\n",
       "    .dataframe tbody tr th:only-of-type {\n",
       "        vertical-align: middle;\n",
       "    }\n",
       "\n",
       "    .dataframe tbody tr th {\n",
       "        vertical-align: top;\n",
       "    }\n",
       "\n",
       "    .dataframe thead th {\n",
       "        text-align: right;\n",
       "    }\n",
       "</style>\n",
       "<table border=\"1\" class=\"dataframe\">\n",
       "  <thead>\n",
       "    <tr style=\"text-align: right;\">\n",
       "      <th></th>\n",
       "      <th>winery</th>\n",
       "      <th>wine_name</th>\n",
       "      <th>year</th>\n",
       "      <th>price</th>\n",
       "      <th>score</th>\n",
       "      <th>country</th>\n",
       "      <th>wine_type</th>\n",
       "      <th>pairing</th>\n",
       "      <th>flavours</th>\n",
       "      <th>picture</th>\n",
       "      <th>price_quality</th>\n",
       "      <th>Uvas</th>\n",
       "      <th>Región</th>\n",
       "      <th>Estilo de vino</th>\n",
       "      <th>Contenido de alcohol</th>\n",
       "    </tr>\n",
       "  </thead>\n",
       "  <tbody>\n",
       "  </tbody>\n",
       "</table>\n",
       "</div>"
      ]
     },
     "execution_count": 18,
     "metadata": {},
     "output_type": "execute_result"
    }
   ],
   "execution_count": 18
  },
  {
   "metadata": {
    "ExecuteTime": {
     "end_time": "2024-12-23T11:31:19.772506Z",
     "start_time": "2024-12-23T11:31:19.765669Z"
    }
   },
   "cell_type": "code",
   "source": "df.dtypes",
   "id": "2fa3af98ec0c3b5e",
   "outputs": [
    {
     "data": {
      "text/plain": [
       "winery                  object\n",
       "wine_name               object\n",
       "year                    object\n",
       "price                   object\n",
       "score                   object\n",
       "country                 object\n",
       "wine_type               object\n",
       "pairing                 object\n",
       "flavours                object\n",
       "picture                 object\n",
       "price_quality           object\n",
       "Uvas                    object\n",
       "Región                  object\n",
       "Estilo de vino          object\n",
       "Contenido de alcohol    object\n",
       "dtype: object"
      ]
     },
     "execution_count": 19,
     "metadata": {},
     "output_type": "execute_result"
    }
   ],
   "execution_count": 19
  },
  {
   "metadata": {
    "ExecuteTime": {
     "end_time": "2024-12-23T11:31:19.823582Z",
     "start_time": "2024-12-23T11:31:19.818550Z"
    }
   },
   "cell_type": "code",
   "source": "df.to_csv('vivino.csv', index=False)",
   "id": "1244ab4d65316bf1",
   "outputs": [],
   "execution_count": 20
  }
 ],
 "metadata": {
  "kernelspec": {
   "display_name": "Python 3",
   "language": "python",
   "name": "python3"
  },
  "language_info": {
   "codemirror_mode": {
    "name": "ipython",
    "version": 2
   },
   "file_extension": ".py",
   "mimetype": "text/x-python",
   "name": "python",
   "nbconvert_exporter": "python",
   "pygments_lexer": "ipython2",
   "version": "2.7.6"
  }
 },
 "nbformat": 4,
 "nbformat_minor": 5
}
